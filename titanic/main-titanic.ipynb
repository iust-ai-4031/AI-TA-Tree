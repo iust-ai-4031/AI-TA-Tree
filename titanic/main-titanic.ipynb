{
 "cells": [
  {
   "cell_type": "markdown",
   "id": "7ee03b74",
   "metadata": {},
   "source": [
    "## Titanic challenge\n",
    "\n",
    ">this is a very basic problem for entering ml and tabular ai world\n",
    ">\n",
    ">TODO: for more information read [challenge's page](https://www.kaggle.com/c/titanic/)  "
   ]
  },
  {
   "cell_type": "markdown",
   "id": "966e9023",
   "metadata": {},
   "source": [
    "## Importing Libraries"
   ]
  },
  {
   "cell_type": "code",
   "execution_count": null,
   "id": "9e7b25d0",
   "metadata": {
    "lines_to_next_cell": 1
   },
   "outputs": [],
   "source": [
    "import sys\n",
    "sys.path.append('..')\n",
    "import numpy as np\n",
    "import pandas as pd\n",
    "from sklearn.model_selection import train_test_split\n",
    "from sklearn.preprocessing import LabelEncoder\n",
    "from sklearn.metrics import accuracy_score\n",
    "from decision_tree import MultiNodeCategoricalDecisionTree"
   ]
  },
  {
   "cell_type": "markdown",
   "id": "3afbef36",
   "metadata": {},
   "source": [
    "## Loading the Dataset\n",
    "\n",
    "TODO: Replace this section with code to load your actual dataset.\n",
    "\n",
    "In this section, you should:\n",
    "1. Load your dataset from a file (CSV, Excel, etc.) or a database\n",
    "2. Display basic information about the dataset (shape, columns, etc.)\n",
    "3. Show the first few rows of the data"
   ]
  },
  {
   "cell_type": "code",
   "execution_count": null,
   "id": "077ffaf4",
   "metadata": {},
   "outputs": [],
   "source": [
    "# TODO: Load the actual dataset\n",
    "def load_dataset():\n",
    "    # This is a placeholder. Replace with actual data loading code.\n",
    "    data = pd.DataFrame({\n",
    "        'feature1': ['A', 'B', 'C', 'A', 'B'] * 20,\n",
    "        'feature2': ['X', 'Y', 'Z', 'X', 'Y'] * 20,\n",
    "        'feature3': ['P', 'Q', 'R', 'P', 'Q'] * 20,\n",
    "        'target': [0, 1, 0, 1, 0] * 20\n",
    "    })\n",
    "    return data\n",
    "\n",
    "data = load_dataset()\n",
    "print(data.head())"
   ]
  },
  {
   "cell_type": "markdown",
   "id": "c63a56c4",
   "metadata": {},
   "source": [
    "## Exploratory Data Analysis (EDA)\n",
    "\n",
    "TODO: Perform exploratory data analysis on your dataset.\n",
    "\n",
    "In this section, you should:\n",
    "1. Analyze the distribution of features and target variable\n",
    "2. Check for missing values and outliers\n",
    "3. Visualize relationships between features and the target variable\n",
    "4. Identify any patterns or correlations in the data"
   ]
  },
  {
   "cell_type": "code",
   "execution_count": null,
   "id": "5cbd17dd",
   "metadata": {},
   "outputs": [],
   "source": [
    "# TODO: Add your EDA code here\n",
    "# Example:\n",
    "# print(data.describe())\n",
    "# print(data.isnull().sum())\n",
    "# Add visualizations using matplotlib or seaborn"
   ]
  },
  {
   "cell_type": "markdown",
   "id": "5b4c9bc9",
   "metadata": {},
   "source": [
    "## Preprocessing\n",
    "\n",
    "TODO: Preprocess your data to prepare it for the decision tree model.\n",
    "\n",
    "In this section, you should:\n",
    "1. Handle missing values (if any)\n",
    "2. Encode categorical variables\n",
    "3. Split the data into features (X) and target (y)\n",
    "4. Split the data into training and testing sets\n",
    "\n",
    "Note: You should encode your data before splitting it into features and target, \n",
    "because the decision tree classifier works with categorical data.\n",
    "\n",
    "Example of encoding data:\n"
   ]
  },
  {
   "cell_type": "code",
   "execution_count": null,
   "id": "6c41710b",
   "metadata": {},
   "outputs": [],
   "source": [
    "\"\"\"\n",
    "TODO: Add your preprocessing code here\n",
    "Note : you should encode your data before split it into features and target ,\n",
    "because decision tree classifier just work with categorical data\n",
    "\n",
    "example of encoding data :\n",
    "\n",
    "le = LabelEncoder()\n",
    "X = data.drop('target', axis=1)\n",
    "y = data['target']\n",
    "\n",
    "Encode categorical features\n",
    "Features need to be encoded using OrdinalEncoder search about this function in sklearn library\n",
    "\n",
    "\"\"\"\n",
    "\n",
    "# Split the data\n",
    "X_train, X_test, y_train, y_test = # TODO : Split dataset using sklearn library ,naturally you should search about this function\n",
    "print(\"Training set shape:\", X_train.shape)\n",
    "print(\"Test set shape:\", X_test.shape)"
   ]
  },
  {
   "cell_type": "markdown",
   "id": "b37c9303",
   "metadata": {},
   "source": [
    "## Training the Model"
   ]
  },
  {
   "cell_type": "code",
   "execution_count": null,
   "id": "0ef53f81",
   "metadata": {},
   "outputs": [],
   "source": [
    "# Initialize and train the model\n",
    "model = MultiNodeCategoricalDecisionTree(max_depth=5, min_samples_split=2)\n",
    "# TODO use cross-validation for training too\n",
    "model.fit(X_train.values, y_train.values)"
   ]
  },
  {
   "cell_type": "markdown",
   "id": "ebe5a6e5",
   "metadata": {},
   "source": [
    "## Evaluating the Model"
   ]
  },
  {
   "cell_type": "code",
   "execution_count": null,
   "id": "84cea857",
   "metadata": {},
   "outputs": [],
   "source": [
    "# Make predictions\n",
    "y_pred = model.predict(X_test.values)\n",
    "\n",
    "# Ensure y_pred is in the same format as y_test\n",
    "y_pred = np.array(y_pred).astype(int)\n",
    "y_test = np.array(y_test).astype(int)\n",
    "\n",
    "# Calculate accuracy and cross validation\n",
    "\n",
    "print(f\"Accuracy: {accuracy:.4f}\")"
   ]
  },
  {
   "cell_type": "markdown",
   "id": "71c0cae0",
   "metadata": {},
   "source": [
    "## Feature Importances"
   ]
  },
  {
   "cell_type": "code",
   "execution_count": null,
   "id": "398e2c6a",
   "metadata": {
    "lines_to_next_cell": 1
   },
   "outputs": [],
   "source": [
    "# Display feature importances\n",
    "feature_importances = pd.DataFrame({\n",
    "    'feature': X.columns,\n",
    "    'importance': model.feature_importances_\n",
    "}).sort_values('importance', ascending=False)\n",
    "\n",
    "print(feature_importances)"
   ]
  },
  {
   "cell_type": "markdown",
   "id": "2d980c00",
   "metadata": {},
   "source": [
    "## Preparing Submission"
   ]
  },
  {
   "cell_type": "code",
   "execution_count": null,
   "id": "818cb505",
   "metadata": {},
   "outputs": [],
   "source": []
  }
 ],
 "metadata": {
  "jupytext": {
   "cell_metadata_filter": "-all",
   "main_language": "python",
   "notebook_metadata_filter": "-all"
  },
  "kernelspec": {
   "display_name": "venv",
   "language": "python",
   "name": "python3"
  },
  "language_info": {
   "codemirror_mode": {
    "name": "ipython",
    "version": 3
   },
   "file_extension": ".py",
   "mimetype": "text/x-python",
   "name": "python",
   "nbconvert_exporter": "python",
   "pygments_lexer": "ipython3",
   "version": "3.12.5"
  }
 },
 "nbformat": 4,
 "nbformat_minor": 5
}
